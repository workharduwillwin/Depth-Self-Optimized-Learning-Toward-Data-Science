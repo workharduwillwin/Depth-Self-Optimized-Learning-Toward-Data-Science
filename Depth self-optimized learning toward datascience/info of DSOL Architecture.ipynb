{
 "cells": [
  {
   "cell_type": "code",
   "execution_count": 1,
   "metadata": {},
   "outputs": [],
   "source": [
    "import tensorflow as tf\n",
    "from tensorflow import keras\n",
    "from collections import deque"
   ]
  },
  {
   "cell_type": "code",
   "execution_count": 14,
   "metadata": {},
   "outputs": [
    {
     "name": "stdout",
     "output_type": "stream",
     "text": [
      "(150, 4)\n"
     ]
    }
   ],
   "source": [
    "print(feature.shape)"
   ]
  },
  {
   "cell_type": "markdown",
   "metadata": {},
   "source": [
    "# $F-model$"
   ]
  },
  {
   "cell_type": "code",
   "execution_count": 21,
   "metadata": {},
   "outputs": [
    {
     "name": "stdout",
     "output_type": "stream",
     "text": [
      "Model: \"F-model(on Boston housing dataset)\"\n",
      "_________________________________________________________________\n",
      "Layer (type)                 Output Shape              Param #   \n",
      "=================================================================\n",
      "input_16 (InputLayer)        [(None, 100, 13, 1)]      0         \n",
      "_________________________________________________________________\n",
      "conv2d_27 (Conv2D)           (None, 100, 13, 64)       1664      \n",
      "_________________________________________________________________\n",
      "max_pooling2d_26 (MaxPooling (None, 50, 6, 64)         0         \n",
      "_________________________________________________________________\n",
      "conv2d_28 (Conv2D)           (None, 50, 6, 64)         102464    \n",
      "_________________________________________________________________\n",
      "max_pooling2d_27 (MaxPooling (None, 25, 3, 64)         0         \n",
      "_________________________________________________________________\n",
      "flatten (Flatten)            (None, 4800)              0         \n",
      "_________________________________________________________________\n",
      "dense_33 (Dense)             (None, 128)               614528    \n",
      "_________________________________________________________________\n",
      "dense_34 (Dense)             (None, 64)                8256      \n",
      "_________________________________________________________________\n",
      "dense_35 (Dense)             (None, 1)                 65        \n",
      "=================================================================\n",
      "Total params: 726,977\n",
      "Trainable params: 726,977\n",
      "Non-trainable params: 0\n",
      "_________________________________________________________________\n"
     ]
    }
   ],
   "source": [
    "In=keras.Input((100,13,1))\n",
    "x=In\n",
    "for i in range(2):\n",
    "    x= keras.layers.Conv2D(\n",
    "        filters=64,\n",
    "        activation=tf.nn.relu,\n",
    "        kernel_size=[5, 5],\n",
    "        padding=\"same\",\n",
    "         kernel_initializer = 'glorot_uniform'\n",
    "    )(x)\n",
    "    x=keras.layers.MaxPool2D(\n",
    "        pool_size=[2, 2],\n",
    "        strides=2\n",
    "    )(x)\n",
    "x=keras.layers.Flatten()(x)\n",
    "x=keras.layers.Dense(\n",
    "            units=128,\n",
    "            activation=tf.nn.relu,\n",
    "            kernel_initializer='glorot_uniform'\n",
    "        )(x)\n",
    "x=keras.layers.Dense(\n",
    "            units=64,\n",
    "            activation=tf.nn.relu,\n",
    "            kernel_initializer='glorot_uniform'\n",
    "        )(x)\n",
    "x=keras.layers.Dense(\n",
    "            units=1,\n",
    "            activation=tf.nn.relu,\n",
    "            kernel_initializer='glorot_uniform'\n",
    "        )(x)\n",
    "model=keras.Model(In,x,name=\"F-model(on Boston housing dataset)\")\n",
    "model.summary()"
   ]
  },
  {
   "cell_type": "code",
   "execution_count": 22,
   "metadata": {},
   "outputs": [
    {
     "name": "stdout",
     "output_type": "stream",
     "text": [
      "Model: \"F-model(on Iris dataset)\"\n",
      "_________________________________________________________________\n",
      "Layer (type)                 Output Shape              Param #   \n",
      "=================================================================\n",
      "input_17 (InputLayer)        [(None, 100, 4, 1)]       0         \n",
      "_________________________________________________________________\n",
      "conv2d_29 (Conv2D)           (None, 100, 4, 64)        1664      \n",
      "_________________________________________________________________\n",
      "max_pooling2d_28 (MaxPooling (None, 50, 2, 64)         0         \n",
      "_________________________________________________________________\n",
      "conv2d_30 (Conv2D)           (None, 50, 2, 64)         102464    \n",
      "_________________________________________________________________\n",
      "max_pooling2d_29 (MaxPooling (None, 25, 1, 64)         0         \n",
      "_________________________________________________________________\n",
      "flatten_1 (Flatten)          (None, 1600)              0         \n",
      "_________________________________________________________________\n",
      "dense_36 (Dense)             (None, 4800)              7684800   \n",
      "_________________________________________________________________\n",
      "dense_37 (Dense)             (None, 128)               614528    \n",
      "_________________________________________________________________\n",
      "dense_38 (Dense)             (None, 64)                8256      \n",
      "_________________________________________________________________\n",
      "dense_39 (Dense)             (None, 1)                 65        \n",
      "=================================================================\n",
      "Total params: 8,411,777\n",
      "Trainable params: 8,411,777\n",
      "Non-trainable params: 0\n",
      "_________________________________________________________________\n"
     ]
    }
   ],
   "source": [
    "In=keras.Input((100,4,1))\n",
    "x=In\n",
    "for i in range(2):\n",
    "    x= keras.layers.Conv2D(\n",
    "        filters=64,\n",
    "        activation=tf.nn.relu,\n",
    "        kernel_size=[5, 5],\n",
    "        padding=\"same\",\n",
    "         kernel_initializer = 'glorot_uniform'\n",
    "    )(x)\n",
    "    x=keras.layers.MaxPool2D(\n",
    "        pool_size=[2, 2],\n",
    "        strides=2\n",
    "    )(x)\n",
    "x=keras.layers.Flatten()(x)\n",
    "x=keras.layers.Dense(\n",
    "            units=4800,\n",
    "            activation=tf.nn.relu,\n",
    "            kernel_initializer='glorot_uniform'\n",
    "        )(x)\n",
    "x=keras.layers.Dense(\n",
    "            units=128,\n",
    "            activation=tf.nn.relu,\n",
    "            kernel_initializer='glorot_uniform'\n",
    "        )(x)\n",
    "x=keras.layers.Dense(\n",
    "            units=64,\n",
    "            activation=tf.nn.relu,\n",
    "            kernel_initializer='glorot_uniform'\n",
    "        )(x)\n",
    "x=keras.layers.Dense(\n",
    "            units=1,\n",
    "            activation=tf.nn.relu,\n",
    "            kernel_initializer='glorot_uniform'\n",
    "        )(x)\n",
    "model=keras.Model(In,x,name=\"F-model(on Iris dataset)\")\n",
    "model.summary()"
   ]
  },
  {
   "cell_type": "markdown",
   "metadata": {},
   "source": [
    "# Value function $Q$"
   ]
  },
  {
   "cell_type": "code",
   "execution_count": 25,
   "metadata": {},
   "outputs": [
    {
     "name": "stdout",
     "output_type": "stream",
     "text": [
      "Model: \"Critic\"\n",
      "_________________________________________________________________\n",
      "Layer (type)                 Output Shape              Param #   \n",
      "=================================================================\n",
      "input_20 (InputLayer)        [(None, 2)]               0         \n",
      "_________________________________________________________________\n",
      "dense_46 (Dense)             (None, 10)                30        \n",
      "_________________________________________________________________\n",
      "dense_47 (Dense)             (None, 5)                 55        \n",
      "_________________________________________________________________\n",
      "dense_48 (Dense)             (None, 2)                 12        \n",
      "=================================================================\n",
      "Total params: 97\n",
      "Trainable params: 97\n",
      "Non-trainable params: 0\n",
      "_________________________________________________________________\n"
     ]
    }
   ],
   "source": [
    "In=keras.Input((2))\n",
    "x=In\n",
    "x=keras.layers.Dense(\n",
    "            units=10,\n",
    "            activation=tf.nn.relu,\n",
    "            kernel_initializer='glorot_uniform'\n",
    "        )(x)\n",
    "x=keras.layers.Dense(\n",
    "            units=5,\n",
    "            activation=tf.nn.relu,\n",
    "            kernel_initializer='glorot_uniform'\n",
    "        )(x)\n",
    "x=keras.layers.Dense(\n",
    "            units=2,\n",
    "            kernel_initializer='glorot_uniform'\n",
    "        )(x)\n",
    "model=keras.Model(In,x,name=\"Critic\")\n",
    "model.summary()"
   ]
  },
  {
   "cell_type": "markdown",
   "metadata": {},
   "source": []
  },
  {
   "cell_type": "code",
   "execution_count": 26,
   "metadata": {},
   "outputs": [
    {
     "name": "stdout",
     "output_type": "stream",
     "text": [
      "Model: \"Actor\"\n",
      "_________________________________________________________________\n",
      "Layer (type)                 Output Shape              Param #   \n",
      "=================================================================\n",
      "input_21 (InputLayer)        [(None, 2)]               0         \n",
      "_________________________________________________________________\n",
      "dense_49 (Dense)             (None, 10)                30        \n",
      "_________________________________________________________________\n",
      "dense_50 (Dense)             (None, 5)                 55        \n",
      "_________________________________________________________________\n",
      "dense_51 (Dense)             (None, 2)                 12        \n",
      "=================================================================\n",
      "Total params: 97\n",
      "Trainable params: 97\n",
      "Non-trainable params: 0\n",
      "_________________________________________________________________\n"
     ]
    }
   ],
   "source": [
    "In=keras.Input((2))\n",
    "x=In\n",
    "x=keras.layers.Dense(\n",
    "            units=10,\n",
    "            activation=tf.nn.relu,\n",
    "            kernel_initializer='glorot_uniform'\n",
    "        )(x)\n",
    "x=keras.layers.Dense(\n",
    "            units=5,\n",
    "            activation=tf.nn.relu,\n",
    "            kernel_initializer='glorot_uniform'\n",
    "        )(x)\n",
    "x=keras.layers.Dense(\n",
    "            units=2,\n",
    "            kernel_initializer='glorot_uniform',\n",
    "            activation=tf.nn.softmax,\n",
    "        )(x)\n",
    "model=keras.Model(In,x,name=\"Actor\")\n",
    "model.summary()"
   ]
  }
 ],
 "metadata": {
  "kernelspec": {
   "display_name": "Python 3",
   "language": "python",
   "name": "python3"
  },
  "language_info": {
   "codemirror_mode": {
    "name": "ipython",
    "version": 3
   },
   "file_extension": ".py",
   "mimetype": "text/x-python",
   "name": "python",
   "nbconvert_exporter": "python",
   "pygments_lexer": "ipython3",
   "version": "3.8.3"
  }
 },
 "nbformat": 4,
 "nbformat_minor": 4
}
